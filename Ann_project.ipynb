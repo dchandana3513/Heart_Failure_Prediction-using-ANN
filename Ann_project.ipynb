{
  "nbformat": 4,
  "nbformat_minor": 0,
  "metadata": {
    "colab": {
      "provenance": [],
      "include_colab_link": true
    },
    "kernelspec": {
      "name": "python3",
      "display_name": "Python 3"
    },
    "language_info": {
      "name": "python"
    }
  },
  "cells": [
    {
      "cell_type": "markdown",
      "metadata": {
        "id": "view-in-github",
        "colab_type": "text"
      },
      "source": [
        "<a href=\"https://colab.research.google.com/github/dchandana3513/Heart_Failure_Prediction-using-ANN/blob/main/Ann_project.ipynb\" target=\"_parent\"><img src=\"https://colab.research.google.com/assets/colab-badge.svg\" alt=\"Open In Colab\"/></a>"
      ]
    },
    {
      "cell_type": "code",
      "execution_count": null,
      "metadata": {
        "id": "jHc4DimPhMqn"
      },
      "outputs": [],
      "source": [
        "import numpy as np\n",
        "import pandas as pd\n",
        "import matplotlib.pyplot as plt\n",
        "from sklearn import preprocessing\n",
        "from sklearn.preprocessing import StandardScaler\n",
        "from sklearn.model_selection import train_test_split\n",
        "import seaborn as sns\n",
        "from keras.layers import Dense, BatchNormalization, Dropout, LSTM\n",
        "from keras.models import Sequential\n",
        "from tensorflow.keras.utils import to_categorical\n",
        "from keras import callbacks\n",
        "from sklearn.metrics import precision_score, recall_score, confusion_matrix, classification_report, accuracy_score, f1_score\n"
      ]
    },
    {
      "cell_type": "markdown",
      "source": [
        "Dense: A fully connected neural network layer.\n",
        "\n",
        "BatchNormalization: Normalizes the activations of the previous layer at each batch, improving the training speed and stability.\n",
        "\n",
        "Dropout: Regularization technique where randomly selected neurons are ignored during training, reducing overfitting.\n",
        "\n",
        "LSTM: Long Short-Term Memory layer, a type of recurrent neural network (RNN) used for sequence prediction problems.\n",
        "\n",
        "EarlyStopping: Stops training when a monitored metric has stopped improving.\n",
        "\n",
        "ModelCheckpoint: Saves the model after every epoch."
      ],
      "metadata": {
        "id": "q0TduwLlsli-"
      }
    },
    {
      "cell_type": "code",
      "source": [
        "data = pd.read_csv(\"/content/Heart_failure_clinical_records_dataset.csv\")\n",
        "data.head()"
      ],
      "metadata": {
        "colab": {
          "base_uri": "https://localhost:8080/",
          "height": 304
        },
        "id": "JtmktuOlhiWF",
        "outputId": "5dc88c58-20c6-4b4c-cb9a-00edc87d4d04"
      },
      "execution_count": null,
      "outputs": [
        {
          "output_type": "error",
          "ename": "FileNotFoundError",
          "evalue": "[Errno 2] No such file or directory: '/content/Heart_failure_clinical_records_dataset.csv'",
          "traceback": [
            "\u001b[0;31m---------------------------------------------------------------------------\u001b[0m",
            "\u001b[0;31mFileNotFoundError\u001b[0m                         Traceback (most recent call last)",
            "\u001b[0;32m<ipython-input-5-4bba492d3b93>\u001b[0m in \u001b[0;36m<cell line: 1>\u001b[0;34m()\u001b[0m\n\u001b[0;32m----> 1\u001b[0;31m \u001b[0mdata\u001b[0m \u001b[0;34m=\u001b[0m \u001b[0mpd\u001b[0m\u001b[0;34m.\u001b[0m\u001b[0mread_csv\u001b[0m\u001b[0;34m(\u001b[0m\u001b[0;34m\"/content/Heart_failure_clinical_records_dataset.csv\"\u001b[0m\u001b[0;34m)\u001b[0m\u001b[0;34m\u001b[0m\u001b[0;34m\u001b[0m\u001b[0m\n\u001b[0m\u001b[1;32m      2\u001b[0m \u001b[0mdata\u001b[0m\u001b[0;34m.\u001b[0m\u001b[0mhead\u001b[0m\u001b[0;34m(\u001b[0m\u001b[0;34m)\u001b[0m\u001b[0;34m\u001b[0m\u001b[0;34m\u001b[0m\u001b[0m\n",
            "\u001b[0;32m/usr/local/lib/python3.10/dist-packages/pandas/io/parsers/readers.py\u001b[0m in \u001b[0;36mread_csv\u001b[0;34m(filepath_or_buffer, sep, delimiter, header, names, index_col, usecols, dtype, engine, converters, true_values, false_values, skipinitialspace, skiprows, skipfooter, nrows, na_values, keep_default_na, na_filter, verbose, skip_blank_lines, parse_dates, infer_datetime_format, keep_date_col, date_parser, date_format, dayfirst, cache_dates, iterator, chunksize, compression, thousands, decimal, lineterminator, quotechar, quoting, doublequote, escapechar, comment, encoding, encoding_errors, dialect, on_bad_lines, delim_whitespace, low_memory, memory_map, float_precision, storage_options, dtype_backend)\u001b[0m\n\u001b[1;32m    910\u001b[0m     \u001b[0mkwds\u001b[0m\u001b[0;34m.\u001b[0m\u001b[0mupdate\u001b[0m\u001b[0;34m(\u001b[0m\u001b[0mkwds_defaults\u001b[0m\u001b[0;34m)\u001b[0m\u001b[0;34m\u001b[0m\u001b[0;34m\u001b[0m\u001b[0m\n\u001b[1;32m    911\u001b[0m \u001b[0;34m\u001b[0m\u001b[0m\n\u001b[0;32m--> 912\u001b[0;31m     \u001b[0;32mreturn\u001b[0m \u001b[0m_read\u001b[0m\u001b[0;34m(\u001b[0m\u001b[0mfilepath_or_buffer\u001b[0m\u001b[0;34m,\u001b[0m \u001b[0mkwds\u001b[0m\u001b[0;34m)\u001b[0m\u001b[0;34m\u001b[0m\u001b[0;34m\u001b[0m\u001b[0m\n\u001b[0m\u001b[1;32m    913\u001b[0m \u001b[0;34m\u001b[0m\u001b[0m\n\u001b[1;32m    914\u001b[0m \u001b[0;34m\u001b[0m\u001b[0m\n",
            "\u001b[0;32m/usr/local/lib/python3.10/dist-packages/pandas/io/parsers/readers.py\u001b[0m in \u001b[0;36m_read\u001b[0;34m(filepath_or_buffer, kwds)\u001b[0m\n\u001b[1;32m    575\u001b[0m \u001b[0;34m\u001b[0m\u001b[0m\n\u001b[1;32m    576\u001b[0m     \u001b[0;31m# Create the parser.\u001b[0m\u001b[0;34m\u001b[0m\u001b[0;34m\u001b[0m\u001b[0m\n\u001b[0;32m--> 577\u001b[0;31m     \u001b[0mparser\u001b[0m \u001b[0;34m=\u001b[0m \u001b[0mTextFileReader\u001b[0m\u001b[0;34m(\u001b[0m\u001b[0mfilepath_or_buffer\u001b[0m\u001b[0;34m,\u001b[0m \u001b[0;34m**\u001b[0m\u001b[0mkwds\u001b[0m\u001b[0;34m)\u001b[0m\u001b[0;34m\u001b[0m\u001b[0;34m\u001b[0m\u001b[0m\n\u001b[0m\u001b[1;32m    578\u001b[0m \u001b[0;34m\u001b[0m\u001b[0m\n\u001b[1;32m    579\u001b[0m     \u001b[0;32mif\u001b[0m \u001b[0mchunksize\u001b[0m \u001b[0;32mor\u001b[0m \u001b[0miterator\u001b[0m\u001b[0;34m:\u001b[0m\u001b[0;34m\u001b[0m\u001b[0;34m\u001b[0m\u001b[0m\n",
            "\u001b[0;32m/usr/local/lib/python3.10/dist-packages/pandas/io/parsers/readers.py\u001b[0m in \u001b[0;36m__init__\u001b[0;34m(self, f, engine, **kwds)\u001b[0m\n\u001b[1;32m   1405\u001b[0m \u001b[0;34m\u001b[0m\u001b[0m\n\u001b[1;32m   1406\u001b[0m         \u001b[0mself\u001b[0m\u001b[0;34m.\u001b[0m\u001b[0mhandles\u001b[0m\u001b[0;34m:\u001b[0m \u001b[0mIOHandles\u001b[0m \u001b[0;34m|\u001b[0m \u001b[0;32mNone\u001b[0m \u001b[0;34m=\u001b[0m \u001b[0;32mNone\u001b[0m\u001b[0;34m\u001b[0m\u001b[0;34m\u001b[0m\u001b[0m\n\u001b[0;32m-> 1407\u001b[0;31m         \u001b[0mself\u001b[0m\u001b[0;34m.\u001b[0m\u001b[0m_engine\u001b[0m \u001b[0;34m=\u001b[0m \u001b[0mself\u001b[0m\u001b[0;34m.\u001b[0m\u001b[0m_make_engine\u001b[0m\u001b[0;34m(\u001b[0m\u001b[0mf\u001b[0m\u001b[0;34m,\u001b[0m \u001b[0mself\u001b[0m\u001b[0;34m.\u001b[0m\u001b[0mengine\u001b[0m\u001b[0;34m)\u001b[0m\u001b[0;34m\u001b[0m\u001b[0;34m\u001b[0m\u001b[0m\n\u001b[0m\u001b[1;32m   1408\u001b[0m \u001b[0;34m\u001b[0m\u001b[0m\n\u001b[1;32m   1409\u001b[0m     \u001b[0;32mdef\u001b[0m \u001b[0mclose\u001b[0m\u001b[0;34m(\u001b[0m\u001b[0mself\u001b[0m\u001b[0;34m)\u001b[0m \u001b[0;34m->\u001b[0m \u001b[0;32mNone\u001b[0m\u001b[0;34m:\u001b[0m\u001b[0;34m\u001b[0m\u001b[0;34m\u001b[0m\u001b[0m\n",
            "\u001b[0;32m/usr/local/lib/python3.10/dist-packages/pandas/io/parsers/readers.py\u001b[0m in \u001b[0;36m_make_engine\u001b[0;34m(self, f, engine)\u001b[0m\n\u001b[1;32m   1659\u001b[0m                 \u001b[0;32mif\u001b[0m \u001b[0;34m\"b\"\u001b[0m \u001b[0;32mnot\u001b[0m \u001b[0;32min\u001b[0m \u001b[0mmode\u001b[0m\u001b[0;34m:\u001b[0m\u001b[0;34m\u001b[0m\u001b[0;34m\u001b[0m\u001b[0m\n\u001b[1;32m   1660\u001b[0m                     \u001b[0mmode\u001b[0m \u001b[0;34m+=\u001b[0m \u001b[0;34m\"b\"\u001b[0m\u001b[0;34m\u001b[0m\u001b[0;34m\u001b[0m\u001b[0m\n\u001b[0;32m-> 1661\u001b[0;31m             self.handles = get_handle(\n\u001b[0m\u001b[1;32m   1662\u001b[0m                 \u001b[0mf\u001b[0m\u001b[0;34m,\u001b[0m\u001b[0;34m\u001b[0m\u001b[0;34m\u001b[0m\u001b[0m\n\u001b[1;32m   1663\u001b[0m                 \u001b[0mmode\u001b[0m\u001b[0;34m,\u001b[0m\u001b[0;34m\u001b[0m\u001b[0;34m\u001b[0m\u001b[0m\n",
            "\u001b[0;32m/usr/local/lib/python3.10/dist-packages/pandas/io/common.py\u001b[0m in \u001b[0;36mget_handle\u001b[0;34m(path_or_buf, mode, encoding, compression, memory_map, is_text, errors, storage_options)\u001b[0m\n\u001b[1;32m    857\u001b[0m         \u001b[0;32mif\u001b[0m \u001b[0mioargs\u001b[0m\u001b[0;34m.\u001b[0m\u001b[0mencoding\u001b[0m \u001b[0;32mand\u001b[0m \u001b[0;34m\"b\"\u001b[0m \u001b[0;32mnot\u001b[0m \u001b[0;32min\u001b[0m \u001b[0mioargs\u001b[0m\u001b[0;34m.\u001b[0m\u001b[0mmode\u001b[0m\u001b[0;34m:\u001b[0m\u001b[0;34m\u001b[0m\u001b[0;34m\u001b[0m\u001b[0m\n\u001b[1;32m    858\u001b[0m             \u001b[0;31m# Encoding\u001b[0m\u001b[0;34m\u001b[0m\u001b[0;34m\u001b[0m\u001b[0m\n\u001b[0;32m--> 859\u001b[0;31m             handle = open(\n\u001b[0m\u001b[1;32m    860\u001b[0m                 \u001b[0mhandle\u001b[0m\u001b[0;34m,\u001b[0m\u001b[0;34m\u001b[0m\u001b[0;34m\u001b[0m\u001b[0m\n\u001b[1;32m    861\u001b[0m                 \u001b[0mioargs\u001b[0m\u001b[0;34m.\u001b[0m\u001b[0mmode\u001b[0m\u001b[0;34m,\u001b[0m\u001b[0;34m\u001b[0m\u001b[0;34m\u001b[0m\u001b[0m\n",
            "\u001b[0;31mFileNotFoundError\u001b[0m: [Errno 2] No such file or directory: '/content/Heart_failure_clinical_records_dataset.csv'"
          ]
        }
      ]
    },
    {
      "cell_type": "code",
      "source": [
        "cols= [\"#6daa9f\",\"#774571\"]\n",
        "sns.countplot(x= data[\"DEATH_EVENT\"], palette= cols)"
      ],
      "metadata": {
        "colab": {
          "base_uri": "https://localhost:8080/",
          "height": 553
        },
        "id": "k3s-aW8Xhx3H",
        "outputId": "9d5e28a6-ffee-4ee9-81ce-bbb8abe4a8e3"
      },
      "execution_count": null,
      "outputs": [
        {
          "output_type": "stream",
          "name": "stderr",
          "text": [
            "<ipython-input-3-25859c4f7b04>:2: FutureWarning: \n",
            "\n",
            "Passing `palette` without assigning `hue` is deprecated and will be removed in v0.14.0. Assign the `x` variable to `hue` and set `legend=False` for the same effect.\n",
            "\n",
            "  sns.countplot(x= data[\"DEATH_EVENT\"], palette= cols)\n"
          ]
        },
        {
          "output_type": "execute_result",
          "data": {
            "text/plain": [
              "<Axes: xlabel='DEATH_EVENT', ylabel='count'>"
            ]
          },
          "metadata": {},
          "execution_count": 3
        },
        {
          "output_type": "display_data",
          "data": {
            "text/plain": [
              "<Figure size 640x480 with 1 Axes>"
            ],
            "image/png": "[encoded data removed]"
          },
          "metadata": {}
        }
      ]
    },
    {
      "cell_type": "code",
      "source": [
        "\n",
        "\n",
        "#assigning values to features as X and target as y\n",
        "X=data.drop([\"DEATH_EVENT\"],axis=1)\n",
        "y=data[\"DEATH_EVENT\"]\n"
      ],
      "metadata": {
        "id": "zqNBZvdxh9Xl"
      },
      "execution_count": null,
      "outputs": []
    },
    {
      "cell_type": "code",
      "source": [
        "\n",
        "#Set up a standard scaler for the features\n",
        "col_names = list(X.columns)\n",
        "s_scaler = preprocessing.StandardScaler()\n",
        "X_df= s_scaler.fit_transform(X)\n",
        "X_df = pd.DataFrame(X_df, columns=col_names)\n",
        "X_df.describe().T"
      ],
      "metadata": {
        "colab": {
          "base_uri": "https://localhost:8080/",
          "height": 211
        },
        "id": "LhTQkaQ4iBS5",
        "outputId": "676accac-31df-4910-b4c5-c8c3bd18d11a"
      },
      "execution_count": null,
      "outputs": [
        {
          "output_type": "error",
          "ename": "NameError",
          "evalue": "name 'X' is not defined",
          "traceback": [
            "\u001b[0;31m---------------------------------------------------------------------------\u001b[0m",
            "\u001b[0;31mNameError\u001b[0m                                 Traceback (most recent call last)",
            "\u001b[0;32m<ipython-input-3-cf938a61fe0c>\u001b[0m in \u001b[0;36m<cell line: 2>\u001b[0;34m()\u001b[0m\n\u001b[1;32m      1\u001b[0m \u001b[0;31m#Set up a standard scaler for the features\u001b[0m\u001b[0;34m\u001b[0m\u001b[0;34m\u001b[0m\u001b[0m\n\u001b[0;32m----> 2\u001b[0;31m \u001b[0mcol_names\u001b[0m \u001b[0;34m=\u001b[0m \u001b[0mlist\u001b[0m\u001b[0;34m(\u001b[0m\u001b[0mX\u001b[0m\u001b[0;34m.\u001b[0m\u001b[0mcolumns\u001b[0m\u001b[0;34m)\u001b[0m\u001b[0;34m\u001b[0m\u001b[0;34m\u001b[0m\u001b[0m\n\u001b[0m\u001b[1;32m      3\u001b[0m \u001b[0ms_scaler\u001b[0m \u001b[0;34m=\u001b[0m \u001b[0mpreprocessing\u001b[0m\u001b[0;34m.\u001b[0m\u001b[0mStandardScaler\u001b[0m\u001b[0;34m(\u001b[0m\u001b[0;34m)\u001b[0m\u001b[0;34m\u001b[0m\u001b[0;34m\u001b[0m\u001b[0m\n\u001b[1;32m      4\u001b[0m \u001b[0mX_df\u001b[0m\u001b[0;34m=\u001b[0m \u001b[0ms_scaler\u001b[0m\u001b[0;34m.\u001b[0m\u001b[0mfit_transform\u001b[0m\u001b[0;34m(\u001b[0m\u001b[0mX\u001b[0m\u001b[0;34m)\u001b[0m\u001b[0;34m\u001b[0m\u001b[0;34m\u001b[0m\u001b[0m\n\u001b[1;32m      5\u001b[0m \u001b[0mX_df\u001b[0m \u001b[0;34m=\u001b[0m \u001b[0mpd\u001b[0m\u001b[0;34m.\u001b[0m\u001b[0mDataFrame\u001b[0m\u001b[0;34m(\u001b[0m\u001b[0mX_df\u001b[0m\u001b[0;34m,\u001b[0m \u001b[0mcolumns\u001b[0m\u001b[0;34m=\u001b[0m\u001b[0mcol_names\u001b[0m\u001b[0;34m)\u001b[0m\u001b[0;34m\u001b[0m\u001b[0;34m\u001b[0m\u001b[0m\n",
            "\u001b[0;31mNameError\u001b[0m: name 'X' is not defined"
          ]
        }
      ]
    },
    {
      "cell_type": "code",
      "source": [
        "X_train, X_test, y_train,y_test = train_test_split(X_df,y,test_size=0.25,random_state=7)"
      ],
      "metadata": {
        "id": "y_uTsJeciuPZ"
      },
      "execution_count": null,
      "outputs": []
    },
    {
      "cell_type": "code",
      "source": [
        "early_stopping = callbacks.EarlyStopping(\n",
        "    min_delta=0.001, # minimium amount of change to count as an improvement\n",
        "    patience=30, # how many epochs to wait before stopping\n",
        "    restore_best_weights=True)"
      ],
      "metadata": {
        "id": "M26ll_i8i2j1"
      },
      "execution_count": null,
      "outputs": []
    },
    {
      "cell_type": "code",
      "source": [
        "model = Sequential()"
      ],
      "metadata": {
        "id": "pMDNVkHUi6A1"
      },
      "execution_count": null,
      "outputs": []
    },
    {
      "cell_type": "code",
      "source": [
        "model.add(Dense(units = 16, kernel_initializer = 'uniform', activation = 'relu', input_dim = 12))\n",
        "model.add(Dense(units = 8, kernel_initializer = 'uniform', activation = 'relu'))\n",
        "model.add(Dropout(0.25))\n",
        "model.add(Dense(units = 4, kernel_initializer = 'uniform', activation = 'relu'))\n",
        "model.add(Dropout(0.5))\n",
        "model.add(Dense(units = 1, kernel_initializer = 'uniform', activation = 'sigmoid'))\n",
        "from tensorflow.keras.optimizers import SGD\n",
        "# Compiling the ANN\n",
        "model.compile(optimizer = 'adam', loss = 'binary_crossentropy', metrics = ['accuracy'])\n"
      ],
      "metadata": {
        "id": "E5szrIOTi9jt"
      },
      "execution_count": null,
      "outputs": []
    },
    {
      "cell_type": "markdown",
      "source": [
        "Dense layer with 16 units (neurons).\n",
        "\n",
        "kernel_initializer='uniform': Initializes the weights uniformly.\n",
        "\n",
        "activation='relu': Applies the ReLU activation function.\n",
        "\n",
        "input_dim=12: The input layer expects 12 features\n",
        "\n",
        "Optimizer: adam\n",
        "The Adam optimizer combines the best properties of the AdaGrad and RMSProp algorithms to provide an optimization algorithm that can handle sparse gradients on noisy problems.\n",
        "\n",
        "Loss Function: binary_crossentropy\n",
        "This loss function is suitable for binary classification tasks, measuring the performance of a classification model whose output is a probability value between 0 and 1.\n",
        "\n",
        "Metrics: ['accuracy']\n",
        "The model's performance will be evaluated using accuracy, which is the fraction of correctly predicted instances."
      ],
      "metadata": {
        "id": "mxZXLYNYvaot"
      }
    },
    {
      "cell_type": "code",
      "source": [
        "history = model.fit(X_train, y_train, batch_size = 32, epochs = 500,callbacks=[early_stopping], validation_split=0.2)\n"
      ],
      "metadata": {
        "colab": {
          "base_uri": "https://localhost:8080/"
        },
        "id": "jHasN_zOjASm",
        "outputId": "5266fa3c-eb30-44aa-ac8d-a4a502f7c8c0"
      },
      "execution_count": null,
      "outputs": [
        {
          "output_type": "stream",
          "name": "stdout",
          "text": [
            "Epoch 1/500\n",
            "6/6 [==============================] - 2s 70ms/step - loss: 0.6929 - accuracy: 0.5363 - val_loss: 0.6924 - val_accuracy: 0.6667\n",
            "Epoch 2/500\n",
            "6/6 [==============================] - 0s 12ms/step - loss: 0.6922 - accuracy: 0.6480 - val_loss: 0.6914 - val_accuracy: 0.6667\n",
            "Epoch 3/500\n",
            "6/6 [==============================] - 0s 10ms/step - loss: 0.6913 - accuracy: 0.6480 - val_loss: 0.6905 - val_accuracy: 0.6667\n",
            "Epoch 4/500\n",
            "6/6 [==============================] - 0s 11ms/step - loss: 0.6904 - accuracy: 0.6480 - val_loss: 0.6895 - val_accuracy: 0.6667\n",
            "Epoch 5/500\n",
            "6/6 [==============================] - 0s 13ms/step - loss: 0.6898 - accuracy: 0.6480 - val_loss: 0.6886 - val_accuracy: 0.6667\n",
            "Epoch 6/500\n",
            "6/6 [==============================] - 0s 9ms/step - loss: 0.6889 - accuracy: 0.6480 - val_loss: 0.6876 - val_accuracy: 0.6667\n",
            "Epoch 7/500\n",
            "6/6 [==============================] - 0s 15ms/step - loss: 0.6878 - accuracy: 0.6480 - val_loss: 0.6866 - val_accuracy: 0.6667\n",
            "Epoch 8/500\n",
            "6/6 [==============================] - 0s 9ms/step - loss: 0.6871 - accuracy: 0.6480 - val_loss: 0.6854 - val_accuracy: 0.6667\n",
            "Epoch 9/500\n",
            "6/6 [==============================] - 0s 9ms/step - loss: 0.6856 - accuracy: 0.6480 - val_loss: 0.6841 - val_accuracy: 0.6667\n",
            "Epoch 10/500\n",
            "6/6 [==============================] - 0s 9ms/step - loss: 0.6844 - accuracy: 0.6480 - val_loss: 0.6826 - val_accuracy: 0.6667\n",
            "Epoch 11/500\n",
            "6/6 [==============================] - 0s 13ms/step - loss: 0.6828 - accuracy: 0.6480 - val_loss: 0.6808 - val_accuracy: 0.6667\n",
            "Epoch 12/500\n",
            "6/6 [==============================] - 0s 10ms/step - loss: 0.6821 - accuracy: 0.6480 - val_loss: 0.6786 - val_accuracy: 0.6667\n",
            "Epoch 13/500\n",
            "6/6 [==============================] - 0s 13ms/step - loss: 0.6795 - accuracy: 0.6480 - val_loss: 0.6760 - val_accuracy: 0.6667\n",
            "Epoch 14/500\n",
            "6/6 [==============================] - 0s 13ms/step - loss: 0.6754 - accuracy: 0.6480 - val_loss: 0.6726 - val_accuracy: 0.6667\n",
            "Epoch 15/500\n",
            "6/6 [==============================] - 0s 10ms/step - loss: 0.6726 - accuracy: 0.6480 - val_loss: 0.6681 - val_accuracy: 0.6667\n",
            "Epoch 16/500\n",
            "6/6 [==============================] - 0s 9ms/step - loss: 0.6690 - accuracy: 0.6480 - val_loss: 0.6625 - val_accuracy: 0.6667\n",
            "Epoch 17/500\n",
            "6/6 [==============================] - 0s 10ms/step - loss: 0.6652 - accuracy: 0.6480 - val_loss: 0.6557 - val_accuracy: 0.6667\n",
            "Epoch 18/500\n",
            "6/6 [==============================] - 0s 10ms/step - loss: 0.6559 - accuracy: 0.6480 - val_loss: 0.6474 - val_accuracy: 0.6667\n",
            "Epoch 19/500\n",
            "6/6 [==============================] - 0s 13ms/step - loss: 0.6527 - accuracy: 0.6480 - val_loss: 0.6382 - val_accuracy: 0.6667\n",
            "Epoch 20/500\n",
            "6/6 [==============================] - 0s 13ms/step - loss: 0.6376 - accuracy: 0.6480 - val_loss: 0.6268 - val_accuracy: 0.6667\n",
            "Epoch 21/500\n",
            "6/6 [==============================] - 0s 9ms/step - loss: 0.6293 - accuracy: 0.6480 - val_loss: 0.6146 - val_accuracy: 0.6667\n",
            "Epoch 22/500\n",
            "6/6 [==============================] - 0s 12ms/step - loss: 0.6221 - accuracy: 0.6480 - val_loss: 0.6006 - val_accuracy: 0.6667\n",
            "Epoch 23/500\n",
            "6/6 [==============================] - 0s 10ms/step - loss: 0.6037 - accuracy: 0.6480 - val_loss: 0.5859 - val_accuracy: 0.6667\n",
            "Epoch 24/500\n",
            "6/6 [==============================] - 0s 10ms/step - loss: 0.5979 - accuracy: 0.6480 - val_loss: 0.5712 - val_accuracy: 0.6667\n",
            "Epoch 25/500\n",
            "6/6 [==============================] - 0s 13ms/step - loss: 0.5732 - accuracy: 0.6480 - val_loss: 0.5580 - val_accuracy: 0.6667\n",
            "Epoch 26/500\n",
            "6/6 [==============================] - 0s 10ms/step - loss: 0.5802 - accuracy: 0.6480 - val_loss: 0.5458 - val_accuracy: 0.6667\n",
            "Epoch 27/500\n",
            "6/6 [==============================] - 0s 13ms/step - loss: 0.5590 - accuracy: 0.6480 - val_loss: 0.5365 - val_accuracy: 0.6667\n",
            "Epoch 28/500\n",
            "6/6 [==============================] - 0s 12ms/step - loss: 0.5360 - accuracy: 0.6480 - val_loss: 0.5286 - val_accuracy: 0.6667\n",
            "Epoch 29/500\n",
            "6/6 [==============================] - 0s 9ms/step - loss: 0.5465 - accuracy: 0.6480 - val_loss: 0.5229 - val_accuracy: 0.6667\n",
            "Epoch 30/500\n",
            "6/6 [==============================] - 0s 13ms/step - loss: 0.5513 - accuracy: 0.6480 - val_loss: 0.5200 - val_accuracy: 0.6667\n",
            "Epoch 31/500\n",
            "6/6 [==============================] - 0s 9ms/step - loss: 0.5645 - accuracy: 0.6480 - val_loss: 0.5179 - val_accuracy: 0.6667\n",
            "Epoch 32/500\n",
            "6/6 [==============================] - 0s 10ms/step - loss: 0.5261 - accuracy: 0.6480 - val_loss: 0.5169 - val_accuracy: 0.6667\n",
            "Epoch 33/500\n",
            "6/6 [==============================] - 0s 12ms/step - loss: 0.5189 - accuracy: 0.6480 - val_loss: 0.5162 - val_accuracy: 0.6667\n",
            "Epoch 34/500\n",
            "6/6 [==============================] - 0s 9ms/step - loss: 0.5294 - accuracy: 0.6480 - val_loss: 0.5158 - val_accuracy: 0.6667\n",
            "Epoch 35/500\n",
            "6/6 [==============================] - 0s 13ms/step - loss: 0.5364 - accuracy: 0.6480 - val_loss: 0.5144 - val_accuracy: 0.6667\n",
            "Epoch 36/500\n",
            "6/6 [==============================] - 0s 9ms/step - loss: 0.5328 - accuracy: 0.6480 - val_loss: 0.5116 - val_accuracy: 0.6667\n",
            "Epoch 37/500\n",
            "6/6 [==============================] - 0s 13ms/step - loss: 0.5336 - accuracy: 0.6480 - val_loss: 0.5100 - val_accuracy: 0.6667\n",
            "Epoch 38/500\n",
            "6/6 [==============================] - 0s 10ms/step - loss: 0.4837 - accuracy: 0.6480 - val_loss: 0.5100 - val_accuracy: 0.6667\n",
            "Epoch 39/500\n",
            "6/6 [==============================] - 0s 10ms/step - loss: 0.5009 - accuracy: 0.6480 - val_loss: 0.5105 - val_accuracy: 0.6667\n",
            "Epoch 40/500\n",
            "6/6 [==============================] - 0s 9ms/step - loss: 0.5193 - accuracy: 0.6480 - val_loss: 0.5114 - val_accuracy: 0.6667\n",
            "Epoch 41/500\n",
            "6/6 [==============================] - 0s 10ms/step - loss: 0.5165 - accuracy: 0.6592 - val_loss: 0.5124 - val_accuracy: 0.6667\n",
            "Epoch 42/500\n",
            "6/6 [==============================] - 0s 13ms/step - loss: 0.5066 - accuracy: 0.6983 - val_loss: 0.5133 - val_accuracy: 0.6667\n",
            "Epoch 43/500\n",
            "6/6 [==============================] - 0s 12ms/step - loss: 0.4971 - accuracy: 0.7542 - val_loss: 0.5121 - val_accuracy: 0.6889\n",
            "Epoch 44/500\n",
            "6/6 [==============================] - 0s 9ms/step - loss: 0.5256 - accuracy: 0.7542 - val_loss: 0.5095 - val_accuracy: 0.7333\n",
            "Epoch 45/500\n",
            "6/6 [==============================] - 0s 9ms/step - loss: 0.4834 - accuracy: 0.7598 - val_loss: 0.5075 - val_accuracy: 0.7111\n",
            "Epoch 46/500\n",
            "6/6 [==============================] - 0s 9ms/step - loss: 0.4723 - accuracy: 0.7318 - val_loss: 0.5076 - val_accuracy: 0.8000\n",
            "Epoch 47/500\n",
            "6/6 [==============================] - 0s 11ms/step - loss: 0.4671 - accuracy: 0.7039 - val_loss: 0.5093 - val_accuracy: 0.8000\n",
            "Epoch 48/500\n",
            "6/6 [==============================] - 0s 12ms/step - loss: 0.5248 - accuracy: 0.7542 - val_loss: 0.5077 - val_accuracy: 0.8000\n",
            "Epoch 49/500\n",
            "6/6 [==============================] - 0s 9ms/step - loss: 0.4713 - accuracy: 0.7430 - val_loss: 0.5083 - val_accuracy: 0.8444\n",
            "Epoch 50/500\n",
            "6/6 [==============================] - 0s 9ms/step - loss: 0.4796 - accuracy: 0.7486 - val_loss: 0.5097 - val_accuracy: 0.8444\n",
            "Epoch 51/500\n",
            "6/6 [==============================] - 0s 13ms/step - loss: 0.4681 - accuracy: 0.7542 - val_loss: 0.5095 - val_accuracy: 0.8222\n",
            "Epoch 52/500\n",
            "6/6 [==============================] - 0s 12ms/step - loss: 0.4925 - accuracy: 0.7430 - val_loss: 0.5080 - val_accuracy: 0.8222\n",
            "Epoch 53/500\n",
            "6/6 [==============================] - 0s 12ms/step - loss: 0.4975 - accuracy: 0.7318 - val_loss: 0.5071 - val_accuracy: 0.8222\n",
            "Epoch 54/500\n",
            "6/6 [==============================] - 0s 9ms/step - loss: 0.4805 - accuracy: 0.7151 - val_loss: 0.5026 - val_accuracy: 0.8222\n",
            "Epoch 55/500\n",
            "6/6 [==============================] - 0s 11ms/step - loss: 0.4962 - accuracy: 0.7877 - val_loss: 0.4989 - val_accuracy: 0.8222\n",
            "Epoch 56/500\n",
            "6/6 [==============================] - 0s 9ms/step - loss: 0.4735 - accuracy: 0.7654 - val_loss: 0.4964 - val_accuracy: 0.8444\n",
            "Epoch 57/500\n",
            "6/6 [==============================] - 0s 12ms/step - loss: 0.4493 - accuracy: 0.7821 - val_loss: 0.4953 - val_accuracy: 0.8444\n",
            "Epoch 58/500\n",
            "6/6 [==============================] - 0s 13ms/step - loss: 0.4556 - accuracy: 0.7598 - val_loss: 0.4954 - val_accuracy: 0.8444\n",
            "Epoch 59/500\n",
            "6/6 [==============================] - 0s 9ms/step - loss: 0.4883 - accuracy: 0.7318 - val_loss: 0.4960 - val_accuracy: 0.8444\n",
            "Epoch 60/500\n",
            "6/6 [==============================] - 0s 9ms/step - loss: 0.4651 - accuracy: 0.7207 - val_loss: 0.4981 - val_accuracy: 0.8444\n",
            "Epoch 61/500\n",
            "6/6 [==============================] - 0s 9ms/step - loss: 0.4474 - accuracy: 0.7374 - val_loss: 0.4988 - val_accuracy: 0.8444\n",
            "Epoch 62/500\n",
            "6/6 [==============================] - 0s 9ms/step - loss: 0.4380 - accuracy: 0.8156 - val_loss: 0.4974 - val_accuracy: 0.8444\n",
            "Epoch 63/500\n",
            "6/6 [==============================] - 0s 13ms/step - loss: 0.4681 - accuracy: 0.7486 - val_loss: 0.4981 - val_accuracy: 0.8444\n",
            "Epoch 64/500\n",
            "6/6 [==============================] - 0s 9ms/step - loss: 0.5134 - accuracy: 0.7095 - val_loss: 0.4980 - val_accuracy: 0.8444\n",
            "Epoch 65/500\n",
            "6/6 [==============================] - 0s 12ms/step - loss: 0.4622 - accuracy: 0.7821 - val_loss: 0.4966 - val_accuracy: 0.8444\n",
            "Epoch 66/500\n",
            "6/6 [==============================] - 0s 12ms/step - loss: 0.4429 - accuracy: 0.7263 - val_loss: 0.4958 - val_accuracy: 0.8444\n",
            "Epoch 67/500\n",
            "6/6 [==============================] - 0s 9ms/step - loss: 0.4189 - accuracy: 0.7542 - val_loss: 0.4956 - val_accuracy: 0.8222\n",
            "Epoch 68/500\n",
            "6/6 [==============================] - 0s 12ms/step - loss: 0.4731 - accuracy: 0.7039 - val_loss: 0.4943 - val_accuracy: 0.8222\n",
            "Epoch 69/500\n",
            "6/6 [==============================] - 0s 10ms/step - loss: 0.4721 - accuracy: 0.7430 - val_loss: 0.4937 - val_accuracy: 0.8222\n",
            "Epoch 70/500\n",
            "6/6 [==============================] - 0s 10ms/step - loss: 0.4826 - accuracy: 0.7263 - val_loss: 0.4925 - val_accuracy: 0.8222\n",
            "Epoch 71/500\n",
            "6/6 [==============================] - 0s 9ms/step - loss: 0.4598 - accuracy: 0.7318 - val_loss: 0.4917 - val_accuracy: 0.8222\n",
            "Epoch 72/500\n",
            "6/6 [==============================] - 0s 12ms/step - loss: 0.4658 - accuracy: 0.7709 - val_loss: 0.4921 - val_accuracy: 0.8222\n",
            "Epoch 73/500\n",
            "6/6 [==============================] - 0s 8ms/step - loss: 0.4391 - accuracy: 0.7151 - val_loss: 0.4930 - val_accuracy: 0.8222\n",
            "Epoch 74/500\n",
            "6/6 [==============================] - 0s 9ms/step - loss: 0.4909 - accuracy: 0.6927 - val_loss: 0.4940 - val_accuracy: 0.8222\n",
            "Epoch 75/500\n",
            "6/6 [==============================] - 0s 12ms/step - loss: 0.4276 - accuracy: 0.7486 - val_loss: 0.4963 - val_accuracy: 0.8222\n",
            "Epoch 76/500\n",
            "6/6 [==============================] - 0s 10ms/step - loss: 0.4674 - accuracy: 0.6872 - val_loss: 0.4980 - val_accuracy: 0.8222\n",
            "Epoch 77/500\n",
            "6/6 [==============================] - 0s 9ms/step - loss: 0.4580 - accuracy: 0.7039 - val_loss: 0.4996 - val_accuracy: 0.8222\n",
            "Epoch 78/500\n",
            "6/6 [==============================] - 0s 12ms/step - loss: 0.4666 - accuracy: 0.7598 - val_loss: 0.5005 - val_accuracy: 0.8444\n",
            "Epoch 79/500\n",
            "6/6 [==============================] - 0s 10ms/step - loss: 0.4701 - accuracy: 0.7430 - val_loss: 0.5013 - val_accuracy: 0.8444\n",
            "Epoch 80/500\n",
            "6/6 [==============================] - 0s 9ms/step - loss: 0.4442 - accuracy: 0.7318 - val_loss: 0.5032 - val_accuracy: 0.8444\n",
            "Epoch 81/500\n",
            "6/6 [==============================] - 0s 13ms/step - loss: 0.4436 - accuracy: 0.7374 - val_loss: 0.5040 - val_accuracy: 0.8444\n",
            "Epoch 82/500\n",
            "6/6 [==============================] - 0s 17ms/step - loss: 0.4370 - accuracy: 0.7654 - val_loss: 0.5056 - val_accuracy: 0.8444\n",
            "Epoch 83/500\n",
            "6/6 [==============================] - 0s 15ms/step - loss: 0.4746 - accuracy: 0.7709 - val_loss: 0.5042 - val_accuracy: 0.8222\n",
            "Epoch 84/500\n",
            "6/6 [==============================] - 0s 17ms/step - loss: 0.4430 - accuracy: 0.7821 - val_loss: 0.5033 - val_accuracy: 0.8222\n",
            "Epoch 85/500\n",
            "6/6 [==============================] - 0s 21ms/step - loss: 0.4459 - accuracy: 0.7654 - val_loss: 0.5010 - val_accuracy: 0.8222\n",
            "Epoch 86/500\n",
            "6/6 [==============================] - 0s 16ms/step - loss: 0.4381 - accuracy: 0.7430 - val_loss: 0.5012 - val_accuracy: 0.8222\n",
            "Epoch 87/500\n",
            "6/6 [==============================] - 0s 13ms/step - loss: 0.4393 - accuracy: 0.7542 - val_loss: 0.5012 - val_accuracy: 0.8222\n",
            "Epoch 88/500\n",
            "6/6 [==============================] - 0s 15ms/step - loss: 0.4448 - accuracy: 0.7486 - val_loss: 0.5007 - val_accuracy: 0.8444\n",
            "Epoch 89/500\n",
            "6/6 [==============================] - 0s 13ms/step - loss: 0.4380 - accuracy: 0.7486 - val_loss: 0.5012 - val_accuracy: 0.8444\n",
            "Epoch 90/500\n",
            "6/6 [==============================] - 0s 18ms/step - loss: 0.4808 - accuracy: 0.7318 - val_loss: 0.5020 - val_accuracy: 0.8444\n",
            "Epoch 91/500\n",
            "6/6 [==============================] - 0s 12ms/step - loss: 0.4416 - accuracy: 0.7318 - val_loss: 0.5020 - val_accuracy: 0.8444\n",
            "Epoch 92/500\n",
            "6/6 [==============================] - 0s 16ms/step - loss: 0.4486 - accuracy: 0.7318 - val_loss: 0.5023 - val_accuracy: 0.8444\n",
            "Epoch 93/500\n",
            "6/6 [==============================] - 0s 12ms/step - loss: 0.4585 - accuracy: 0.7151 - val_loss: 0.5024 - val_accuracy: 0.8444\n",
            "Epoch 94/500\n",
            "6/6 [==============================] - 0s 13ms/step - loss: 0.4482 - accuracy: 0.7654 - val_loss: 0.5029 - val_accuracy: 0.8444\n",
            "Epoch 95/500\n",
            "6/6 [==============================] - 0s 12ms/step - loss: 0.4503 - accuracy: 0.7263 - val_loss: 0.5019 - val_accuracy: 0.8444\n",
            "Epoch 96/500\n",
            "6/6 [==============================] - 0s 13ms/step - loss: 0.4172 - accuracy: 0.7654 - val_loss: 0.5018 - val_accuracy: 0.8444\n",
            "Epoch 97/500\n",
            "6/6 [==============================] - 0s 17ms/step - loss: 0.4479 - accuracy: 0.6927 - val_loss: 0.5028 - val_accuracy: 0.8444\n",
            "Epoch 98/500\n",
            "6/6 [==============================] - 0s 13ms/step - loss: 0.4324 - accuracy: 0.7039 - val_loss: 0.5045 - val_accuracy: 0.8444\n",
            "Epoch 99/500\n",
            "6/6 [==============================] - 0s 17ms/step - loss: 0.4399 - accuracy: 0.7430 - val_loss: 0.5061 - val_accuracy: 0.8444\n",
            "Epoch 100/500\n",
            "6/6 [==============================] - 0s 16ms/step - loss: 0.4162 - accuracy: 0.7765 - val_loss: 0.5047 - val_accuracy: 0.8444\n"
          ]
        }
      ]
    },
    {
      "cell_type": "markdown",
      "source": [
        "An activation function in the context of neural networks is a mathematical function applied to each neuron in the network.\n",
        " Its primary purpose is to introduce non-linearity into the model, enabling the network to learn complex patterns in the data"
      ],
      "metadata": {
        "id": "bH0TbOTgxQ-f"
      }
    },
    {
      "cell_type": "code",
      "source": [
        "val_accuracy = np.mean(history.history['val_accuracy'])\n",
        "print(\"\\n%s: %.2f%%\" % ('val_accuracy', val_accuracy*100))"
      ],
      "metadata": {
        "colab": {
          "base_uri": "https://localhost:8080/"
        },
        "id": "ZyanMLOnjKuS",
        "outputId": "3314479e-4b88-41b0-d2ed-f9b8e9f49533"
      },
      "execution_count": null,
      "outputs": [
        {
          "output_type": "stream",
          "name": "stdout",
          "text": [
            "\n",
            "val_accuracy: 75.98%\n"
          ]
        }
      ]
    },
    {
      "cell_type": "code",
      "source": [
        "y_pred = model.predict(X_test)\n",
        "y_pred = (y_pred > 0.5)\n",
        "np.set_printoptions()\n"
      ],
      "metadata": {
        "colab": {
          "base_uri": "https://localhost:8080/"
        },
        "id": "Ty4lQkQDjP_l",
        "outputId": "7abb51db-7cab-4009-81a1-f710f7043803"
      },
      "execution_count": null,
      "outputs": [
        {
          "output_type": "stream",
          "name": "stdout",
          "text": [
            "3/3 [==============================] - 0s 5ms/step\n"
          ]
        }
      ]
    },
    {
      "cell_type": "code",
      "source": [
        "y_test"
      ],
      "metadata": {
        "colab": {
          "base_uri": "https://localhost:8080/"
        },
        "id": "2O388exgjUFT",
        "outputId": "f6309a6b-3084-4668-ba5d-f53802f85827"
      },
      "execution_count": null,
      "outputs": [
        {
          "output_type": "execute_result",
          "data": {
            "text/plain": [
              "268    0\n",
              "240    0\n",
              "278    0\n",
              "176    0\n",
              "202    0\n",
              "      ..\n",
              "24     1\n",
              "62     0\n",
              "249    0\n",
              "90     0\n",
              "50     1\n",
              "Name: DEATH_EVENT, Length: 75, dtype: int64"
            ]
          },
          "metadata": {},
          "execution_count": 14
        }
      ]
    },
    {
      "cell_type": "markdown",
      "source": [
        "sns.diverging_palette(): Creates a diverging color palette, which is useful for visualizing data that diverges around a midpoint.\n",
        "\n",
        "cf_matrix / np.sum(cf_matrix): Normalizes the confusion matrix by dividing each element by the total number of elements in the matrix. This converts the counts to proportions, making it easier to interpret the relative performance of the classifier.\n"
      ],
      "metadata": {
        "id": "9jqBYFM7zw-v"
      }
    },
    {
      "cell_type": "code",
      "source": [
        "cmap1 = sns.diverging_palette(275,150,  s=40, l=65, n=6)\n",
        "plt.subplots(figsize=(12,8))\n",
        "cf_matrix = confusion_matrix(y_test, y_pred)\n",
        "sns.heatmap(cf_matrix/np.sum(cf_matrix), cmap = cmap1, annot = True, annot_kws = {'size':15})\n"
      ],
      "metadata": {
        "colab": {
          "base_uri": "https://localhost:8080/",
          "height": 693
        },
        "id": "dABipN9ujXip",
        "outputId": "6a9f5c7f-e248-4476-e3e1-9279df7902c9"
      },
      "execution_count": null,
      "outputs": [
        {
          "output_type": "execute_result",
          "data": {
            "text/plain": [
              "<Axes: >"
            ]
          },
          "metadata": {},
          "execution_count": 15
        },
        {
          "output_type": "display_data",
          "data": {
            "text/plain": [
              "<Figure size 1200x800 with 2 Axes>"
            ],
            "image/png": "[encoded data removed]"
          },
          "metadata": {}
        }
      ]
    },
    {
      "cell_type": "markdown",
      "source": [],
      "metadata": {
        "id": "CLdTL-Rkzum7"
      }
    },
    {
      "cell_type": "markdown",
      "source": [
        "Rectified Linear Unit (ReLU):\n",
        "\n",
        "ReLU\n",
        "(\n",
        "𝑥\n",
        ")\n",
        "=\n",
        "max\n",
        "⁡\n",
        "(\n",
        "0\n",
        ",\n",
        "𝑥\n",
        ")\n",
        "\n",
        "ReLU(x)=max(0,x)\n",
        "Output range: [0, ∞)\n",
        "Used in: Hidden layers.\n",
        "\n",
        "Pros: Computationally efficient, mitigates vanishing gradient problem."
      ],
      "metadata": {
        "id": "eeu6uKcgxvVj"
      }
    },
    {
      "cell_type": "code",
      "source": [
        "import numpy as np\n",
        "def predict_single_row(row):\n",
        "  # Convert the row to a NumPy array\n",
        "  row = np.array(row)\n",
        "\n",
        "  # Standardize the features\n",
        "  row = s_scaler.transform(row.reshape(1, -1))\n",
        "\n",
        "  # Predict the output\n",
        "  prediction = model.predict(row)\n",
        "\n",
        "  # Convert the prediction to a binary value (0 or 1)\n",
        "  prediction = (prediction > 0.5).astype(int)\n",
        "\n",
        "  return prediction[0]\n",
        "\n",
        "# Example usage\n",
        "new_row = [65, 0, 0, 140, 254, 0, 1, 158, 0, 0.4, 1, 2]\n",
        "prediction = predict_single_row(new_row)\n",
        "print(\"Prediction:\", prediction)\n"
      ],
      "metadata": {
        "colab": {
          "base_uri": "https://localhost:8080/",
          "height": 315
        },
        "id": "N1KHQ463O_Ef",
        "outputId": "cfe34253-92d0-42a1-f402-e13309162092"
      },
      "execution_count": null,
      "outputs": [
        {
          "output_type": "error",
          "ename": "NameError",
          "evalue": "name 's_scaler' is not defined",
          "traceback": [
            "\u001b[0;31m---------------------------------------------------------------------------\u001b[0m",
            "\u001b[0;31mNameError\u001b[0m                                 Traceback (most recent call last)",
            "\u001b[0;32m<ipython-input-1-d36603842ab0>\u001b[0m in \u001b[0;36m<cell line: 28>\u001b[0;34m()\u001b[0m\n\u001b[1;32m     26\u001b[0m \u001b[0;31m# Example usage\u001b[0m\u001b[0;34m\u001b[0m\u001b[0;34m\u001b[0m\u001b[0m\n\u001b[1;32m     27\u001b[0m \u001b[0mnew_row\u001b[0m \u001b[0;34m=\u001b[0m \u001b[0;34m[\u001b[0m\u001b[0;36m65\u001b[0m\u001b[0;34m,\u001b[0m \u001b[0;36m0\u001b[0m\u001b[0;34m,\u001b[0m \u001b[0;36m0\u001b[0m\u001b[0;34m,\u001b[0m \u001b[0;36m140\u001b[0m\u001b[0;34m,\u001b[0m \u001b[0;36m254\u001b[0m\u001b[0;34m,\u001b[0m \u001b[0;36m0\u001b[0m\u001b[0;34m,\u001b[0m \u001b[0;36m1\u001b[0m\u001b[0;34m,\u001b[0m \u001b[0;36m158\u001b[0m\u001b[0;34m,\u001b[0m \u001b[0;36m0\u001b[0m\u001b[0;34m,\u001b[0m \u001b[0;36m0.4\u001b[0m\u001b[0;34m,\u001b[0m \u001b[0;36m1\u001b[0m\u001b[0;34m,\u001b[0m \u001b[0;36m2\u001b[0m\u001b[0;34m]\u001b[0m\u001b[0;34m\u001b[0m\u001b[0;34m\u001b[0m\u001b[0m\n\u001b[0;32m---> 28\u001b[0;31m \u001b[0mprediction\u001b[0m \u001b[0;34m=\u001b[0m \u001b[0mpredict_single_row\u001b[0m\u001b[0;34m(\u001b[0m\u001b[0mnew_row\u001b[0m\u001b[0;34m)\u001b[0m\u001b[0;34m\u001b[0m\u001b[0;34m\u001b[0m\u001b[0m\n\u001b[0m\u001b[1;32m     29\u001b[0m \u001b[0mprint\u001b[0m\u001b[0;34m(\u001b[0m\u001b[0;34m\"Prediction:\"\u001b[0m\u001b[0;34m,\u001b[0m \u001b[0mprediction\u001b[0m\u001b[0;34m)\u001b[0m\u001b[0;34m\u001b[0m\u001b[0;34m\u001b[0m\u001b[0m\n",
            "\u001b[0;32m<ipython-input-1-d36603842ab0>\u001b[0m in \u001b[0;36mpredict_single_row\u001b[0;34m(row)\u001b[0m\n\u001b[1;32m     14\u001b[0m \u001b[0;34m\u001b[0m\u001b[0m\n\u001b[1;32m     15\u001b[0m   \u001b[0;31m# Standardize the features\u001b[0m\u001b[0;34m\u001b[0m\u001b[0;34m\u001b[0m\u001b[0m\n\u001b[0;32m---> 16\u001b[0;31m   \u001b[0mrow\u001b[0m \u001b[0;34m=\u001b[0m \u001b[0ms_scaler\u001b[0m\u001b[0;34m.\u001b[0m\u001b[0mtransform\u001b[0m\u001b[0;34m(\u001b[0m\u001b[0mrow\u001b[0m\u001b[0;34m.\u001b[0m\u001b[0mreshape\u001b[0m\u001b[0;34m(\u001b[0m\u001b[0;36m1\u001b[0m\u001b[0;34m,\u001b[0m \u001b[0;34m-\u001b[0m\u001b[0;36m1\u001b[0m\u001b[0;34m)\u001b[0m\u001b[0;34m)\u001b[0m\u001b[0;34m\u001b[0m\u001b[0;34m\u001b[0m\u001b[0m\n\u001b[0m\u001b[1;32m     17\u001b[0m \u001b[0;34m\u001b[0m\u001b[0m\n\u001b[1;32m     18\u001b[0m   \u001b[0;31m# Predict the output\u001b[0m\u001b[0;34m\u001b[0m\u001b[0;34m\u001b[0m\u001b[0m\n",
            "\u001b[0;31mNameError\u001b[0m: name 's_scaler' is not defined"
          ]
        }
      ]
    }
  ]
}